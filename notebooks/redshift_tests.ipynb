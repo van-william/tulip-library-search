{
 "cells": [
  {
   "cell_type": "code",
   "execution_count": 29,
   "metadata": {},
   "outputs": [],
   "source": [
    "import os"
   ]
  },
  {
   "cell_type": "code",
   "execution_count": 30,
   "metadata": {},
   "outputs": [
    {
     "name": "stdout",
     "output_type": "stream",
     "text": [
      "/Users/williamvanbuskirk/Documents/2 - Library/library_query/tulip-library-search/notebooks\n"
     ]
    }
   ],
   "source": [
    "print(os.getcwd())"
   ]
  },
  {
   "cell_type": "code",
   "execution_count": 31,
   "metadata": {},
   "outputs": [],
   "source": [
    "import redshift_connector\n",
    "import pandas as pd\n",
    "import os\n",
    "import requests\n",
    "import json\n",
    "import numpy as np\n",
    "HOST = os.getenv('REDSHIFT_HOST')\n",
    "DATABASE = os.getenv('REDSHIFT_DB')\n",
    "USER = os.getenv('REDSHIFT_USER')\n",
    "PASSWORD = os.getenv('REDSHIFT_PASSWORD')\n",
    "\n",
    "conn = redshift_connector.connect(\n",
    "    host=HOST,\n",
    "    database=DATABASE,\n",
    "    user=USER,\n",
    "    password=PASSWORD\n",
    ")\n",
    "\n",
    "cursor = conn.cursor()\n",
    "\n",
    "query = \"\"\"\n",
    "SELECT asset_id, asset_page_url  FROM cds.tbllibraryasset\n",
    "\"\"\"\n",
    "cursor.execute(query)\n",
    "library_assets = cursor.fetch_dataframe()\n",
    "cursor.close()\n",
    "conn.close()\n",
    "\n",
    "# recently added content\n",
    "response = requests.get('https://api.library.tulipintra.net/v2/assets')\n",
    "body = response.content\n",
    "body_json = json.loads(body)  \n",
    "apps = body_json['apps']\n",
    "df_apps = pd.DataFrame(apps)\n",
    "\n",
    "app_groups = body_json['appGroups']\n",
    "df_app_groups = pd.DataFrame(app_groups)\n",
    "\n",
    "connectors = body_json['connectors']\n",
    "df_connectors = pd.DataFrame(connectors)\n",
    "\n",
    "df_union = pd.concat([df_apps, df_app_groups, df_connectors])\n",
    "#df_union.columns\n",
    "df_union_col = ['assetId', 'assetType', 'created', 'lastModified', 'marketingHeadline', 'name']\n",
    "df_union = df_union[df_union_col] \n",
    "\n",
    "recent_asset_table = pd.merge(library_assets, df_union, left_on='asset_id', right_on='assetId')\n",
    "recent_asset_table.columns"
   ]
  },
  {
   "cell_type": "code",
   "execution_count": null,
   "metadata": {},
   "outputs": [
    {
     "ename": "KeyError",
     "evalue": "\"['name'] not in index\"",
     "output_type": "error",
     "traceback": [
      "\u001b[0;31m---------------------------------------------------------------------------\u001b[0m",
      "\u001b[0;31mKeyError\u001b[0m                                  Traceback (most recent call last)",
      "Cell \u001b[0;32mIn[27], line 5\u001b[0m\n\u001b[1;32m      1\u001b[0m recent_asset_table \u001b[39m=\u001b[39m recent_asset_table\u001b[39m.\u001b[39mdrop(columns\u001b[39m=\u001b[39m[\u001b[39m'\u001b[39m\u001b[39masset_id\u001b[39m\u001b[39m'\u001b[39m, \u001b[39m'\u001b[39m\u001b[39massetId\u001b[39m\u001b[39m'\u001b[39m])\n\u001b[1;32m      3\u001b[0m recent_asset_table[\u001b[39m'\u001b[39m\u001b[39mdate addded, updated\u001b[39m\u001b[39m'\u001b[39m] \u001b[39m=\u001b[39m np\u001b[39m.\u001b[39mwhere(recent_asset_table[\u001b[39m'\u001b[39m\u001b[39mlastModified\u001b[39m\u001b[39m'\u001b[39m]\u001b[39m.\u001b[39misnull(), recent_asset_table[\u001b[39m'\u001b[39m\u001b[39mcreated\u001b[39m\u001b[39m'\u001b[39m], recent_asset_table[\u001b[39m'\u001b[39m\u001b[39mlastModified\u001b[39m\u001b[39m'\u001b[39m])\n\u001b[0;32m----> 5\u001b[0m recent_asset_table \u001b[39m=\u001b[39m recent_asset_table[[\u001b[39m'\u001b[39;49m\u001b[39mname\u001b[39;49m\u001b[39m'\u001b[39;49m,\u001b[39m'\u001b[39;49m\u001b[39masset_type\u001b[39;49m\u001b[39m'\u001b[39;49m, \u001b[39m'\u001b[39;49m\u001b[39mmarketingHeadline\u001b[39;49m\u001b[39m'\u001b[39;49m, \u001b[39m'\u001b[39;49m\u001b[39mdate addded, updated\u001b[39;49m\u001b[39m'\u001b[39;49m, \u001b[39m'\u001b[39;49m\u001b[39masset_page_url\u001b[39;49m\u001b[39m'\u001b[39;49m]]\n",
      "File \u001b[0;32m~/anaconda3/lib/python3.10/site-packages/pandas/core/frame.py:3813\u001b[0m, in \u001b[0;36mDataFrame.__getitem__\u001b[0;34m(self, key)\u001b[0m\n\u001b[1;32m   3811\u001b[0m     \u001b[39mif\u001b[39;00m is_iterator(key):\n\u001b[1;32m   3812\u001b[0m         key \u001b[39m=\u001b[39m \u001b[39mlist\u001b[39m(key)\n\u001b[0;32m-> 3813\u001b[0m     indexer \u001b[39m=\u001b[39m \u001b[39mself\u001b[39;49m\u001b[39m.\u001b[39;49mcolumns\u001b[39m.\u001b[39;49m_get_indexer_strict(key, \u001b[39m\"\u001b[39;49m\u001b[39mcolumns\u001b[39;49m\u001b[39m\"\u001b[39;49m)[\u001b[39m1\u001b[39m]\n\u001b[1;32m   3815\u001b[0m \u001b[39m# take() does not accept boolean indexers\u001b[39;00m\n\u001b[1;32m   3816\u001b[0m \u001b[39mif\u001b[39;00m \u001b[39mgetattr\u001b[39m(indexer, \u001b[39m\"\u001b[39m\u001b[39mdtype\u001b[39m\u001b[39m\"\u001b[39m, \u001b[39mNone\u001b[39;00m) \u001b[39m==\u001b[39m \u001b[39mbool\u001b[39m:\n",
      "File \u001b[0;32m~/anaconda3/lib/python3.10/site-packages/pandas/core/indexes/base.py:6070\u001b[0m, in \u001b[0;36mIndex._get_indexer_strict\u001b[0;34m(self, key, axis_name)\u001b[0m\n\u001b[1;32m   6067\u001b[0m \u001b[39melse\u001b[39;00m:\n\u001b[1;32m   6068\u001b[0m     keyarr, indexer, new_indexer \u001b[39m=\u001b[39m \u001b[39mself\u001b[39m\u001b[39m.\u001b[39m_reindex_non_unique(keyarr)\n\u001b[0;32m-> 6070\u001b[0m \u001b[39mself\u001b[39;49m\u001b[39m.\u001b[39;49m_raise_if_missing(keyarr, indexer, axis_name)\n\u001b[1;32m   6072\u001b[0m keyarr \u001b[39m=\u001b[39m \u001b[39mself\u001b[39m\u001b[39m.\u001b[39mtake(indexer)\n\u001b[1;32m   6073\u001b[0m \u001b[39mif\u001b[39;00m \u001b[39misinstance\u001b[39m(key, Index):\n\u001b[1;32m   6074\u001b[0m     \u001b[39m# GH 42790 - Preserve name from an Index\u001b[39;00m\n",
      "File \u001b[0;32m~/anaconda3/lib/python3.10/site-packages/pandas/core/indexes/base.py:6133\u001b[0m, in \u001b[0;36mIndex._raise_if_missing\u001b[0;34m(self, key, indexer, axis_name)\u001b[0m\n\u001b[1;32m   6130\u001b[0m     \u001b[39mraise\u001b[39;00m \u001b[39mKeyError\u001b[39;00m(\u001b[39mf\u001b[39m\u001b[39m\"\u001b[39m\u001b[39mNone of [\u001b[39m\u001b[39m{\u001b[39;00mkey\u001b[39m}\u001b[39;00m\u001b[39m] are in the [\u001b[39m\u001b[39m{\u001b[39;00maxis_name\u001b[39m}\u001b[39;00m\u001b[39m]\u001b[39m\u001b[39m\"\u001b[39m)\n\u001b[1;32m   6132\u001b[0m not_found \u001b[39m=\u001b[39m \u001b[39mlist\u001b[39m(ensure_index(key)[missing_mask\u001b[39m.\u001b[39mnonzero()[\u001b[39m0\u001b[39m]]\u001b[39m.\u001b[39munique())\n\u001b[0;32m-> 6133\u001b[0m \u001b[39mraise\u001b[39;00m \u001b[39mKeyError\u001b[39;00m(\u001b[39mf\u001b[39m\u001b[39m\"\u001b[39m\u001b[39m{\u001b[39;00mnot_found\u001b[39m}\u001b[39;00m\u001b[39m not in index\u001b[39m\u001b[39m\"\u001b[39m)\n",
      "\u001b[0;31mKeyError\u001b[0m: \"['name'] not in index\""
     ]
    }
   ],
   "source": [
    "\n",
    "recent_asset_table = recent_asset_table.drop(columns=['asset_id', 'assetId'])\n",
    "\n",
    "recent_asset_table['date addded, updated'] = np.where(recent_asset_table['lastModified'].isnull(), recent_asset_table['created'], recent_asset_table['lastModified'])\n",
    "\n",
    "recent_asset_table = recent_asset_table[['name','asset_type', 'marketingHeadline', 'date addded, updated', 'asset_page_url']]\n",
    "\n"
   ]
  },
  {
   "cell_type": "code",
   "execution_count": null,
   "metadata": {},
   "outputs": [],
   "source": [
    "recent_asset_table = recent_asset_table.rename(columns={\n",
    "    'asset_type': 'content type',\n",
    "    'marketingHeadline': 'summary',\n",
    "    'asset_page_url':'link'\n",
    "})\n",
    "\n",
    "recent_asset_table = recent_asset_table.sort_values(by='date addded, updated', ascending=False)\n",
    "\n",
    "recent_asset_table = recent_asset_table.reset_index(drop=True)\n",
    "\n",
    "\n",
    "# Modify the index to start with 1 instead of 0\n",
    "recent_asset_table.index = recent_asset_table.index + 1"
   ]
  },
  {
   "cell_type": "code",
   "execution_count": null,
   "metadata": {},
   "outputs": [],
   "source": []
  }
 ],
 "metadata": {
  "kernelspec": {
   "display_name": "base",
   "language": "python",
   "name": "python3"
  },
  "language_info": {
   "codemirror_mode": {
    "name": "ipython",
    "version": 3
   },
   "file_extension": ".py",
   "mimetype": "text/x-python",
   "name": "python",
   "nbconvert_exporter": "python",
   "pygments_lexer": "ipython3",
   "version": "3.10.9"
  },
  "orig_nbformat": 4
 },
 "nbformat": 4,
 "nbformat_minor": 2
}
