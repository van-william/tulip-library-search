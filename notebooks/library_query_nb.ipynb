{
 "cells": [
  {
   "cell_type": "code",
   "execution_count": 6,
   "metadata": {},
   "outputs": [],
   "source": [
    "import requests\n",
    "import json\n",
    "import pandas as pd\n",
    "import openai\n",
    "import os\n",
    "import sys"
   ]
  },
  {
   "cell_type": "code",
   "execution_count": 7,
   "metadata": {},
   "outputs": [],
   "source": [
    "openai.api_key = os.environ.get('OPENAI_API_KEY')"
   ]
  },
  {
   "cell_type": "code",
   "execution_count": 8,
   "metadata": {},
   "outputs": [],
   "source": [
    "response = requests.get('https://api.library.tulipintra.net/v2/assets')\n",
    "body = response.content\n",
    "body_json = json.loads(body)        "
   ]
  },
  {
   "cell_type": "code",
   "execution_count": 14,
   "metadata": {},
   "outputs": [
    {
     "data": {
      "text/html": [
       "<div>\n",
       "<style scoped>\n",
       "    .dataframe tbody tr th:only-of-type {\n",
       "        vertical-align: middle;\n",
       "    }\n",
       "\n",
       "    .dataframe tbody tr th {\n",
       "        vertical-align: top;\n",
       "    }\n",
       "\n",
       "    .dataframe thead th {\n",
       "        text-align: right;\n",
       "    }\n",
       "</style>\n",
       "<table border=\"1\" class=\"dataframe\">\n",
       "  <thead>\n",
       "    <tr style=\"text-align: right;\">\n",
       "      <th></th>\n",
       "      <th>description</th>\n",
       "      <th>marketingHeadline</th>\n",
       "      <th>name</th>\n",
       "      <th>url</th>\n",
       "    </tr>\n",
       "  </thead>\n",
       "  <tbody>\n",
       "    <tr>\n",
       "      <th>12</th>\n",
       "      <td>This app suite includes both the Kamishibai Qu...</td>\n",
       "      <td>Streamline quality audits with Digital Kamishibai</td>\n",
       "      <td>Kamishibai App Suite</td>\n",
       "      <td>https://tulip.co/library/apps/kamishibai-app-s...</td>\n",
       "    </tr>\n",
       "    <tr>\n",
       "      <th>13</th>\n",
       "      <td>Use this application to allow users to check i...</td>\n",
       "      <td>Track operator attendance in your operation</td>\n",
       "      <td>Attendance App Suite</td>\n",
       "      <td>https://tulip.co/library/apps/attendance-app-s...</td>\n",
       "    </tr>\n",
       "    <tr>\n",
       "      <th>14</th>\n",
       "      <td>The Quality Management System (QMS) App Suite ...</td>\n",
       "      <td>Manage and assure compliance with a centralize...</td>\n",
       "      <td>QMS App Suite</td>\n",
       "      <td>https://tulip.co/library/apps/qms-app-suite</td>\n",
       "    </tr>\n",
       "    <tr>\n",
       "      <th>15</th>\n",
       "      <td>The Factory Kit Unit Tests make it easy to get...</td>\n",
       "      <td>Get acquainted with your factory kit to start ...</td>\n",
       "      <td>Factory Kit Unit Tests</td>\n",
       "      <td>https://tulip.co/library/apps/factory-kit-unit...</td>\n",
       "    </tr>\n",
       "    <tr>\n",
       "      <th>16</th>\n",
       "      <td>The digital tier board app suite includes a da...</td>\n",
       "      <td>Achieve operational excellence with greater vi...</td>\n",
       "      <td>Digital Tier Board</td>\n",
       "      <td>https://tulip.co/library/apps/digital-tier-board</td>\n",
       "    </tr>\n",
       "  </tbody>\n",
       "</table>\n",
       "</div>"
      ],
      "text/plain": [
       "                                          description  \\\n",
       "12  This app suite includes both the Kamishibai Qu...   \n",
       "13  Use this application to allow users to check i...   \n",
       "14  The Quality Management System (QMS) App Suite ...   \n",
       "15  The Factory Kit Unit Tests make it easy to get...   \n",
       "16  The digital tier board app suite includes a da...   \n",
       "\n",
       "                                    marketingHeadline                    name  \\\n",
       "12  Streamline quality audits with Digital Kamishibai    Kamishibai App Suite   \n",
       "13        Track operator attendance in your operation   Attendance App Suite    \n",
       "14  Manage and assure compliance with a centralize...           QMS App Suite   \n",
       "15  Get acquainted with your factory kit to start ...  Factory Kit Unit Tests   \n",
       "16  Achieve operational excellence with greater vi...      Digital Tier Board   \n",
       "\n",
       "                                                  url  \n",
       "12  https://tulip.co/library/apps/kamishibai-app-s...  \n",
       "13  https://tulip.co/library/apps/attendance-app-s...  \n",
       "14        https://tulip.co/library/apps/qms-app-suite  \n",
       "15  https://tulip.co/library/apps/factory-kit-unit...  \n",
       "16   https://tulip.co/library/apps/digital-tier-board  "
      ]
     },
     "execution_count": 14,
     "metadata": {},
     "output_type": "execute_result"
    }
   ],
   "source": [
    "apps = body_json['apps']\n",
    "app_groups = body_json['appGroups']\n",
    "df_apps = pd.DataFrame(apps)\n",
    "df_app_groups = pd.DataFrame(app_groups)\n",
    "\n",
    "df_union = pd.concat([df_apps, df_app_groups])\n",
    "\n",
    "\n",
    "#df_apps.columns\n",
    "df_union_col = ['description','marketingHeadline', 'name', 'slug']\n",
    "df_union = df_union[df_union_col] \n",
    "df_union['url'] = 'https://tulip.co/library/apps/'+df_union['slug']\n",
    "df_union = df_union.drop(columns='slug')\n",
    "df_union.tail()"
   ]
  },
  {
   "cell_type": "code",
   "execution_count": 14,
   "metadata": {},
   "outputs": [
    {
     "data": {
      "text/html": [
       "<div>\n",
       "<style scoped>\n",
       "    .dataframe tbody tr th:only-of-type {\n",
       "        vertical-align: middle;\n",
       "    }\n",
       "\n",
       "    .dataframe tbody tr th {\n",
       "        vertical-align: top;\n",
       "    }\n",
       "\n",
       "    .dataframe thead th {\n",
       "        text-align: right;\n",
       "    }\n",
       "</style>\n",
       "<table border=\"1\" class=\"dataframe\">\n",
       "  <thead>\n",
       "    <tr style=\"text-align: right;\">\n",
       "      <th></th>\n",
       "      <th>description</th>\n",
       "      <th>marketingHeadline</th>\n",
       "      <th>name</th>\n",
       "      <th>url</th>\n",
       "    </tr>\n",
       "  </thead>\n",
       "  <tbody>\n",
       "    <tr>\n",
       "      <th>0</th>\n",
       "      <td>The Banner Unit Test app simplifies the integr...</td>\n",
       "      <td>Integrate Banner Andon lights to your Tulip apps</td>\n",
       "      <td>Banner Unit Test</td>\n",
       "      <td>https://tulip.co/library/apps/banner-unit-test</td>\n",
       "    </tr>\n",
       "    <tr>\n",
       "      <th>1</th>\n",
       "      <td>The Stopwatch Widget Unit Test adds a basic ti...</td>\n",
       "      <td>Track time within an app</td>\n",
       "      <td>Stopwatch Widget Unit Test</td>\n",
       "      <td>https://tulip.co/library/apps/stopwatch-widget...</td>\n",
       "    </tr>\n",
       "    <tr>\n",
       "      <th>2</th>\n",
       "      <td>This functional Example application shows you ...</td>\n",
       "      <td>Use UMH and Tulip together bridge the human-ma...</td>\n",
       "      <td>United Manufacturing Hub Functional Example</td>\n",
       "      <td>https://tulip.co/library/apps/united-manufactu...</td>\n",
       "    </tr>\n",
       "    <tr>\n",
       "      <th>3</th>\n",
       "      <td>The Radial Gauge Widget Unit Test allows a use...</td>\n",
       "      <td>Visualize if measurements and values meet acce...</td>\n",
       "      <td>Radial Gauge Widget</td>\n",
       "      <td>https://tulip.co/library/apps/radial-gauge-widget</td>\n",
       "    </tr>\n",
       "    <tr>\n",
       "      <th>4</th>\n",
       "      <td>The Inventory Management app is intended to sh...</td>\n",
       "      <td>Store inventory levels, adjust quantities and ...</td>\n",
       "      <td>Inventory Management</td>\n",
       "      <td>https://tulip.co/library/apps/inventory-manage...</td>\n",
       "    </tr>\n",
       "  </tbody>\n",
       "</table>\n",
       "</div>"
      ],
      "text/plain": [
       "                                         description  \\\n",
       "0  The Banner Unit Test app simplifies the integr...   \n",
       "1  The Stopwatch Widget Unit Test adds a basic ti...   \n",
       "2  This functional Example application shows you ...   \n",
       "3  The Radial Gauge Widget Unit Test allows a use...   \n",
       "4  The Inventory Management app is intended to sh...   \n",
       "\n",
       "                                   marketingHeadline  \\\n",
       "0   Integrate Banner Andon lights to your Tulip apps   \n",
       "1                           Track time within an app   \n",
       "2  Use UMH and Tulip together bridge the human-ma...   \n",
       "3  Visualize if measurements and values meet acce...   \n",
       "4  Store inventory levels, adjust quantities and ...   \n",
       "\n",
       "                                          name  \\\n",
       "0                             Banner Unit Test   \n",
       "1                   Stopwatch Widget Unit Test   \n",
       "2  United Manufacturing Hub Functional Example   \n",
       "3                          Radial Gauge Widget   \n",
       "4                         Inventory Management   \n",
       "\n",
       "                                                 url  \n",
       "0     https://tulip.co/library/apps/banner-unit-test  \n",
       "1  https://tulip.co/library/apps/stopwatch-widget...  \n",
       "2  https://tulip.co/library/apps/united-manufactu...  \n",
       "3  https://tulip.co/library/apps/radial-gauge-widget  \n",
       "4  https://tulip.co/library/apps/inventory-manage...  "
      ]
     },
     "execution_count": 14,
     "metadata": {},
     "output_type": "execute_result"
    }
   ],
   "source": [
    "df_apps.head()"
   ]
  },
  {
   "cell_type": "code",
   "execution_count": 15,
   "metadata": {},
   "outputs": [],
   "source": [
    "df_apps_json = df_apps.to_json(orient='split')"
   ]
  },
  {
   "cell_type": "code",
   "execution_count": 16,
   "metadata": {},
   "outputs": [],
   "source": [
    "question = \"I am looking for an app that I can use for improving machine uptime; what would you recommend?\""
   ]
  },
  {
   "cell_type": "code",
   "execution_count": 28,
   "metadata": {},
   "outputs": [],
   "source": [
    "prompt = f\"\"\"please provide an answer to the question belowing use the DataFrame {df_apps_json} as context. \n",
    "You are an AI library assistant skilled in manufacturing and frontline operations. Based upon the question, please recommend some of the apps provided in the json dataframe. \n",
    "Please provide some context on the recommendation, and the url for viewing. Please provide around 5 recommended app sorted by relevance. Question below:\n",
    "{question}\n",
    "\"\"\""
   ]
  },
  {
   "cell_type": "code",
   "execution_count": 29,
   "metadata": {},
   "outputs": [],
   "source": [
    "response = openai.ChatCompletion.create(\n",
    "    model='gpt-3.5-turbo-16k',\n",
    "    messages = [{\"role\":\"user\", \"content\": prompt}],\n",
    "    max_tokens = 2000\n",
    ")"
   ]
  },
  {
   "cell_type": "code",
   "execution_count": 34,
   "metadata": {},
   "outputs": [
    {
     "name": "stdout",
     "output_type": "stream",
     "text": [
      "Based on your requirements for improving machine uptime, I would recommend the following apps from the provided DataFrame:\n",
      "\n",
      "1. App Name: Machine Monitoring Dashboard\n",
      "   Description: Gain real-time insights into production to identify ways to improve operations. Monitor machines, track status, and visualize performance across your facilities.\n",
      "   URL: [Machine Monitoring Dashboard](https://tulip.co/library/apps/machine-monitoring-dashboard)\n",
      "\n",
      "2. App Name: Performance Visibility Dashboard\n",
      "   Description: Gain control over your operations by tracking key operational metrics in real-time. Visually manage how you are performing in key areas across your operation.\n",
      "   URL: [Performance Visibility Dashboard](https://tulip.co/library/apps/performance-visibility-dashboard)\n",
      "\n",
      "3. App Name: Performance Visibility Terminal\n",
      "   Description: Capture performance data and log part production. Provide a tool for logging data and further analysis.\n",
      "   URL: [Performance Visibility Terminal](https://tulip.co/library/apps/performance-visibility-terminal)\n",
      "\n",
      "4. App Name: Machine Monitoring Terminal\n",
      "   Description: Track your machine utilization and performance with Tulip. Monitor machines, track status, and visualize performance across your facilities in real-time.\n",
      "   URL: [Machine Monitoring Terminal](https://tulip.co/library/apps/machine-monitoring-terminal)\n",
      "\n",
      "5. App Name: Machine Monitoring Dashboard\n",
      "   Description: Monitor machines, track status, and visualize performance across your facilities in real-time. Frequently used metrics include uptime percentage and downtime reasons.\n",
      "   URL: [Machine Monitoring Dashboard](https://tulip.co/library/apps/machine-monitoring-dashboard)\n",
      "\n",
      "These apps provide real-time visibility into machine performance, allowing you to track uptime, monitor status, and identify areas for improvement. You can use these apps to gather data and analyze machine performance, helping to optimize uptime and minimize downtime.\n"
     ]
    }
   ],
   "source": [
    "print(response.choices[0].message.content)"
   ]
  },
  {
   "cell_type": "code",
   "execution_count": null,
   "metadata": {},
   "outputs": [],
   "source": []
  }
 ],
 "metadata": {
  "kernelspec": {
   "display_name": "base",
   "language": "python",
   "name": "python3"
  },
  "language_info": {
   "codemirror_mode": {
    "name": "ipython",
    "version": 3
   },
   "file_extension": ".py",
   "mimetype": "text/x-python",
   "name": "python",
   "nbconvert_exporter": "python",
   "pygments_lexer": "ipython3",
   "version": "3.10.9"
  },
  "orig_nbformat": 4
 },
 "nbformat": 4,
 "nbformat_minor": 2
}
