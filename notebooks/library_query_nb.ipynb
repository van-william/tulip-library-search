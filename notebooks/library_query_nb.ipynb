{
 "cells": [
  {
   "cell_type": "code",
   "execution_count": 1,
   "metadata": {},
   "outputs": [],
   "source": [
    "import requests\n",
    "import json\n",
    "import pandas as pd\n",
    "import openai\n",
    "import os\n",
    "import sys"
   ]
  },
  {
   "cell_type": "code",
   "execution_count": 2,
   "metadata": {},
   "outputs": [],
   "source": [
    "openai.api_key = os.environ.get('OPENAI_API_KEY')"
   ]
  },
  {
   "cell_type": "code",
   "execution_count": 3,
   "metadata": {},
   "outputs": [],
   "source": [
    "response = requests.get('https://api.library.tulipintra.net/v2/assets')\n",
    "body = response.content\n",
    "body_json = json.loads(body)        "
   ]
  },
  {
   "cell_type": "code",
   "execution_count": 6,
   "metadata": {},
   "outputs": [
    {
     "name": "stdout",
     "output_type": "stream",
     "text": [
      "Index(['assetId', 'assetType', 'created', 'description', 'href', 'imageUrl',\n",
      "       'importance', 'lastModified', 'marketingHeadline', 'name', 'slug',\n",
      "       'tags', 'thumbnailImageUrl', 'videoUrl'],\n",
      "      dtype='object')\n"
     ]
    },
    {
     "data": {
      "text/html": [
       "<div>\n",
       "<style scoped>\n",
       "    .dataframe tbody tr th:only-of-type {\n",
       "        vertical-align: middle;\n",
       "    }\n",
       "\n",
       "    .dataframe tbody tr th {\n",
       "        vertical-align: top;\n",
       "    }\n",
       "\n",
       "    .dataframe thead th {\n",
       "        text-align: right;\n",
       "    }\n",
       "</style>\n",
       "<table border=\"1\" class=\"dataframe\">\n",
       "  <thead>\n",
       "    <tr style=\"text-align: right;\">\n",
       "      <th></th>\n",
       "      <th>description</th>\n",
       "      <th>marketingHeadline</th>\n",
       "      <th>name</th>\n",
       "      <th>url</th>\n",
       "    </tr>\n",
       "  </thead>\n",
       "  <tbody>\n",
       "    <tr>\n",
       "      <th>13</th>\n",
       "      <td>The Total Productive Maintenance Suite assists...</td>\n",
       "      <td>Manage assets and procedures</td>\n",
       "      <td>Total Productive Maintenance App Suite</td>\n",
       "      <td>https://tulip.co/library/apps/total-productive...</td>\n",
       "    </tr>\n",
       "    <tr>\n",
       "      <th>14</th>\n",
       "      <td>With the Digital Andon System, you can extend ...</td>\n",
       "      <td>Connect operators with supervisors in the case...</td>\n",
       "      <td>Digital Andon System</td>\n",
       "      <td>https://tulip.co/library/apps/digital-andon-sy...</td>\n",
       "    </tr>\n",
       "    <tr>\n",
       "      <th>15</th>\n",
       "      <td>Pack and Ship provides a lightweight solution ...</td>\n",
       "      <td>Track the packaging process and guide operator...</td>\n",
       "      <td>Pack and Ship</td>\n",
       "      <td>https://tulip.co/library/apps/pack-and-ship</td>\n",
       "    </tr>\n",
       "    <tr>\n",
       "      <th>16</th>\n",
       "      <td>The Tool and Asset Manager is a simple way to ...</td>\n",
       "      <td>The Tool and Asset Manager is a simple way to ...</td>\n",
       "      <td>Tool and Asset Manager</td>\n",
       "      <td>https://tulip.co/library/apps/tool-and-asset-m...</td>\n",
       "    </tr>\n",
       "    <tr>\n",
       "      <th>17</th>\n",
       "      <td>This app suite allows you to create new checkl...</td>\n",
       "      <td>Create, manage, and track the completion of ta...</td>\n",
       "      <td>Checklist Management Suite</td>\n",
       "      <td>https://tulip.co/library/apps/checklist-manage...</td>\n",
       "    </tr>\n",
       "  </tbody>\n",
       "</table>\n",
       "</div>"
      ],
      "text/plain": [
       "                                          description  \\\n",
       "13  The Total Productive Maintenance Suite assists...   \n",
       "14  With the Digital Andon System, you can extend ...   \n",
       "15  Pack and Ship provides a lightweight solution ...   \n",
       "16  The Tool and Asset Manager is a simple way to ...   \n",
       "17  This app suite allows you to create new checkl...   \n",
       "\n",
       "                                    marketingHeadline  \\\n",
       "13                       Manage assets and procedures   \n",
       "14  Connect operators with supervisors in the case...   \n",
       "15  Track the packaging process and guide operator...   \n",
       "16  The Tool and Asset Manager is a simple way to ...   \n",
       "17  Create, manage, and track the completion of ta...   \n",
       "\n",
       "                                      name  \\\n",
       "13  Total Productive Maintenance App Suite   \n",
       "14                    Digital Andon System   \n",
       "15                           Pack and Ship   \n",
       "16                  Tool and Asset Manager   \n",
       "17              Checklist Management Suite   \n",
       "\n",
       "                                                  url  \n",
       "13  https://tulip.co/library/apps/total-productive...  \n",
       "14  https://tulip.co/library/apps/digital-andon-sy...  \n",
       "15        https://tulip.co/library/apps/pack-and-ship  \n",
       "16  https://tulip.co/library/apps/tool-and-asset-m...  \n",
       "17  https://tulip.co/library/apps/checklist-manage...  "
      ]
     },
     "execution_count": 6,
     "metadata": {},
     "output_type": "execute_result"
    }
   ],
   "source": [
    "apps = body_json['apps']\n",
    "app_groups = body_json['appGroups']\n",
    "df_apps = pd.DataFrame(apps)\n",
    "df_app_groups = pd.DataFrame(app_groups)\n",
    "\n",
    "df_union = pd.concat([df_apps, df_app_groups])\n",
    "print(df_union.columns)\n",
    "\n",
    "#df_apps.columns\n",
    "df_union_col = ['description','marketingHeadline', 'name', 'slug']\n",
    "df_union = df_union[df_union_col] \n",
    "df_union['url'] = 'https://tulip.co/library/apps/'+df_union['slug']\n",
    "df_union = df_union.drop(columns='slug')\n",
    "df_union.tail()"
   ]
  },
  {
   "cell_type": "code",
   "execution_count": 14,
   "metadata": {},
   "outputs": [
    {
     "data": {
      "text/html": [
       "<div>\n",
       "<style scoped>\n",
       "    .dataframe tbody tr th:only-of-type {\n",
       "        vertical-align: middle;\n",
       "    }\n",
       "\n",
       "    .dataframe tbody tr th {\n",
       "        vertical-align: top;\n",
       "    }\n",
       "\n",
       "    .dataframe thead th {\n",
       "        text-align: right;\n",
       "    }\n",
       "</style>\n",
       "<table border=\"1\" class=\"dataframe\">\n",
       "  <thead>\n",
       "    <tr style=\"text-align: right;\">\n",
       "      <th></th>\n",
       "      <th>description</th>\n",
       "      <th>marketingHeadline</th>\n",
       "      <th>name</th>\n",
       "      <th>url</th>\n",
       "    </tr>\n",
       "  </thead>\n",
       "  <tbody>\n",
       "    <tr>\n",
       "      <th>0</th>\n",
       "      <td>The Banner Unit Test app simplifies the integr...</td>\n",
       "      <td>Integrate Banner Andon lights to your Tulip apps</td>\n",
       "      <td>Banner Unit Test</td>\n",
       "      <td>https://tulip.co/library/apps/banner-unit-test</td>\n",
       "    </tr>\n",
       "    <tr>\n",
       "      <th>1</th>\n",
       "      <td>The Stopwatch Widget Unit Test adds a basic ti...</td>\n",
       "      <td>Track time within an app</td>\n",
       "      <td>Stopwatch Widget Unit Test</td>\n",
       "      <td>https://tulip.co/library/apps/stopwatch-widget...</td>\n",
       "    </tr>\n",
       "    <tr>\n",
       "      <th>2</th>\n",
       "      <td>This functional Example application shows you ...</td>\n",
       "      <td>Use UMH and Tulip together bridge the human-ma...</td>\n",
       "      <td>United Manufacturing Hub Functional Example</td>\n",
       "      <td>https://tulip.co/library/apps/united-manufactu...</td>\n",
       "    </tr>\n",
       "    <tr>\n",
       "      <th>3</th>\n",
       "      <td>The Radial Gauge Widget Unit Test allows a use...</td>\n",
       "      <td>Visualize if measurements and values meet acce...</td>\n",
       "      <td>Radial Gauge Widget</td>\n",
       "      <td>https://tulip.co/library/apps/radial-gauge-widget</td>\n",
       "    </tr>\n",
       "    <tr>\n",
       "      <th>4</th>\n",
       "      <td>The Inventory Management app is intended to sh...</td>\n",
       "      <td>Store inventory levels, adjust quantities and ...</td>\n",
       "      <td>Inventory Management</td>\n",
       "      <td>https://tulip.co/library/apps/inventory-manage...</td>\n",
       "    </tr>\n",
       "  </tbody>\n",
       "</table>\n",
       "</div>"
      ],
      "text/plain": [
       "                                         description  \\\n",
       "0  The Banner Unit Test app simplifies the integr...   \n",
       "1  The Stopwatch Widget Unit Test adds a basic ti...   \n",
       "2  This functional Example application shows you ...   \n",
       "3  The Radial Gauge Widget Unit Test allows a use...   \n",
       "4  The Inventory Management app is intended to sh...   \n",
       "\n",
       "                                   marketingHeadline  \\\n",
       "0   Integrate Banner Andon lights to your Tulip apps   \n",
       "1                           Track time within an app   \n",
       "2  Use UMH and Tulip together bridge the human-ma...   \n",
       "3  Visualize if measurements and values meet acce...   \n",
       "4  Store inventory levels, adjust quantities and ...   \n",
       "\n",
       "                                          name  \\\n",
       "0                             Banner Unit Test   \n",
       "1                   Stopwatch Widget Unit Test   \n",
       "2  United Manufacturing Hub Functional Example   \n",
       "3                          Radial Gauge Widget   \n",
       "4                         Inventory Management   \n",
       "\n",
       "                                                 url  \n",
       "0     https://tulip.co/library/apps/banner-unit-test  \n",
       "1  https://tulip.co/library/apps/stopwatch-widget...  \n",
       "2  https://tulip.co/library/apps/united-manufactu...  \n",
       "3  https://tulip.co/library/apps/radial-gauge-widget  \n",
       "4  https://tulip.co/library/apps/inventory-manage...  "
      ]
     },
     "execution_count": 14,
     "metadata": {},
     "output_type": "execute_result"
    }
   ],
   "source": [
    "df_apps.head()"
   ]
  },
  {
   "cell_type": "code",
   "execution_count": 15,
   "metadata": {},
   "outputs": [],
   "source": [
    "df_apps_json = df_apps.to_json(orient='split')"
   ]
  },
  {
   "cell_type": "code",
   "execution_count": 16,
   "metadata": {},
   "outputs": [],
   "source": [
    "question = \"I am looking for an app that I can use for improving machine uptime; what would you recommend?\""
   ]
  },
  {
   "cell_type": "code",
   "execution_count": 28,
   "metadata": {},
   "outputs": [],
   "source": [
    "prompt = f\"\"\"please provide an answer to the question belowing use the DataFrame {df_apps_json} as context. \n",
    "You are an AI library assistant skilled in manufacturing and frontline operations. Based upon the question, please recommend some of the apps provided in the json dataframe. \n",
    "Please provide some context on the recommendation, and the url for viewing. Please provide around 5 recommended app sorted by relevance. Question below:\n",
    "{question}\n",
    "\"\"\""
   ]
  },
  {
   "cell_type": "code",
   "execution_count": 29,
   "metadata": {},
   "outputs": [],
   "source": [
    "response = openai.ChatCompletion.create(\n",
    "    model='gpt-3.5-turbo-16k',\n",
    "    messages = [{\"role\":\"user\", \"content\": prompt}],\n",
    "    max_tokens = 2000\n",
    ")"
   ]
  },
  {
   "cell_type": "code",
   "execution_count": 34,
   "metadata": {},
   "outputs": [
    {
     "name": "stdout",
     "output_type": "stream",
     "text": [
      "Based on your requirements for improving machine uptime, I would recommend the following apps from the provided DataFrame:\n",
      "\n",
      "1. App Name: Machine Monitoring Dashboard\n",
      "   Description: Gain real-time insights into production to identify ways to improve operations. Monitor machines, track status, and visualize performance across your facilities.\n",
      "   URL: [Machine Monitoring Dashboard](https://tulip.co/library/apps/machine-monitoring-dashboard)\n",
      "\n",
      "2. App Name: Performance Visibility Dashboard\n",
      "   Description: Gain control over your operations by tracking key operational metrics in real-time. Visually manage how you are performing in key areas across your operation.\n",
      "   URL: [Performance Visibility Dashboard](https://tulip.co/library/apps/performance-visibility-dashboard)\n",
      "\n",
      "3. App Name: Performance Visibility Terminal\n",
      "   Description: Capture performance data and log part production. Provide a tool for logging data and further analysis.\n",
      "   URL: [Performance Visibility Terminal](https://tulip.co/library/apps/performance-visibility-terminal)\n",
      "\n",
      "4. App Name: Machine Monitoring Terminal\n",
      "   Description: Track your machine utilization and performance with Tulip. Monitor machines, track status, and visualize performance across your facilities in real-time.\n",
      "   URL: [Machine Monitoring Terminal](https://tulip.co/library/apps/machine-monitoring-terminal)\n",
      "\n",
      "5. App Name: Machine Monitoring Dashboard\n",
      "   Description: Monitor machines, track status, and visualize performance across your facilities in real-time. Frequently used metrics include uptime percentage and downtime reasons.\n",
      "   URL: [Machine Monitoring Dashboard](https://tulip.co/library/apps/machine-monitoring-dashboard)\n",
      "\n",
      "These apps provide real-time visibility into machine performance, allowing you to track uptime, monitor status, and identify areas for improvement. You can use these apps to gather data and analyze machine performance, helping to optimize uptime and minimize downtime.\n"
     ]
    }
   ],
   "source": [
    "print(response.choices[0].message.content)"
   ]
  },
  {
   "cell_type": "code",
   "execution_count": null,
   "metadata": {},
   "outputs": [],
   "source": []
  }
 ],
 "metadata": {
  "kernelspec": {
   "display_name": "base",
   "language": "python",
   "name": "python3"
  },
  "language_info": {
   "codemirror_mode": {
    "name": "ipython",
    "version": 3
   },
   "file_extension": ".py",
   "mimetype": "text/x-python",
   "name": "python",
   "nbconvert_exporter": "python",
   "pygments_lexer": "ipython3",
   "version": "3.10.9"
  },
  "orig_nbformat": 4
 },
 "nbformat": 4,
 "nbformat_minor": 2
}
